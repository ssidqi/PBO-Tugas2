{
  "nbformat": 4,
  "nbformat_minor": 0,
  "metadata": {
    "colab": {
      "provenance": [],
      "authorship_tag": "ABX9TyPn2xSFZY1JCnH46/Ais+Qn",
      "include_colab_link": true
    },
    "kernelspec": {
      "name": "python3",
      "display_name": "Python 3"
    },
    "language_info": {
      "name": "python"
    }
  },
  "cells": [
    {
      "cell_type": "markdown",
      "metadata": {
        "id": "view-in-github",
        "colab_type": "text"
      },
      "source": [
        "<a href=\"https://colab.research.google.com/github/ssidqi/PBO-Tugas2/blob/main/Untitled5.ipynb\" target=\"_parent\"><img src=\"https://colab.research.google.com/assets/colab-badge.svg\" alt=\"Open In Colab\"/></a>"
      ]
    },
    {
      "cell_type": "code",
      "execution_count": 1,
      "metadata": {
        "colab": {
          "base_uri": "https://localhost:8080/"
        },
        "id": "YAlBDqVMPEp1",
        "outputId": "f6baa50d-10f5-49f4-ab22-56c5f66dee63"
      },
      "outputs": [
        {
          "output_type": "stream",
          "name": "stdout",
          "text": [
            "Kucing berbunyi 'Meong'\n",
            "Anjing berbunyi 'Guk guk'\n"
          ]
        }
      ],
      "source": [
        "class Hewan:\n",
        "    def __init__(self, nama, suara):\n",
        "        self.nama = nama\n",
        "        self.suara = suara\n",
        "\n",
        "    def bersuara(self):\n",
        "        return f\"{self.nama} berbunyi '{self.suara}'\"\n",
        "\n",
        "# Membuat objek\n",
        "kucing = Hewan(\"Kucing\", \"Meong\")\n",
        "anjing = Hewan(\"Anjing\", \"Guk guk\")\n",
        "\n",
        "# Memanggil method\n",
        "print(kucing.bersuara())\n",
        "print(anjing.bersuara())"
      ]
    }
  ]
}