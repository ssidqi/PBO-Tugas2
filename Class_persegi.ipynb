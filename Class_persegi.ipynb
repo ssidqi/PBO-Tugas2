{
  "nbformat": 4,
  "nbformat_minor": 0,
  "metadata": {
    "colab": {
      "provenance": [],
      "authorship_tag": "ABX9TyMUNPn2zYx5koEMo3E5sUvb",
      "include_colab_link": true
    },
    "kernelspec": {
      "name": "python3",
      "display_name": "Python 3"
    },
    "language_info": {
      "name": "python"
    }
  },
  "cells": [
    {
      "cell_type": "markdown",
      "metadata": {
        "id": "view-in-github",
        "colab_type": "text"
      },
      "source": [
        "<a href=\"https://colab.research.google.com/github/ssidqi/PBO-Tugas2/blob/main/Class_persegi.ipynb\" target=\"_parent\"><img src=\"https://colab.research.google.com/assets/colab-badge.svg\" alt=\"Open In Colab\"/></a>"
      ]
    },
    {
      "cell_type": "code",
      "execution_count": 1,
      "metadata": {
        "colab": {
          "base_uri": "https://localhost:8080/"
        },
        "id": "jF74-O1XOzLo",
        "outputId": "a60da5ff-9042-44b6-8021-31f66b447a92"
      },
      "outputs": [
        {
          "output_type": "stream",
          "name": "stdout",
          "text": [
            "Luas: 25\n",
            "Keliling: 20\n"
          ]
        }
      ],
      "source": [
        "class Persegi:\n",
        "    def __init__(self, sisi):\n",
        "        self.sisi = sisi\n",
        "\n",
        "    def luas(self):\n",
        "        return self.sisi ** 2\n",
        "\n",
        "    def keliling(self):\n",
        "        return 4 * self.sisi\n",
        "\n",
        "# Membuat objek\n",
        "persegi1 = Persegi(5)\n",
        "\n",
        "# Memanggil method\n",
        "print(f\"Luas: {persegi1.luas()}\")\n",
        "print(f\"Keliling: {persegi1.keliling()}\")"
      ]
    }
  ]
}