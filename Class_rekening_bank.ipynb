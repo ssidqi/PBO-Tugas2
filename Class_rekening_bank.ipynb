{
  "nbformat": 4,
  "nbformat_minor": 0,
  "metadata": {
    "colab": {
      "provenance": [],
      "authorship_tag": "ABX9TyOKWkaY4MZRVEBoFd6Z+oao",
      "include_colab_link": true
    },
    "kernelspec": {
      "name": "python3",
      "display_name": "Python 3"
    },
    "language_info": {
      "name": "python"
    }
  },
  "cells": [
    {
      "cell_type": "markdown",
      "metadata": {
        "id": "view-in-github",
        "colab_type": "text"
      },
      "source": [
        "<a href=\"https://colab.research.google.com/github/ssidqi/PBO-Tugas2/blob/main/Class_rekening_bank.ipynb\" target=\"_parent\"><img src=\"https://colab.research.google.com/assets/colab-badge.svg\" alt=\"Open In Colab\"/></a>"
      ]
    },
    {
      "cell_type": "code",
      "execution_count": 1,
      "metadata": {
        "colab": {
          "base_uri": "https://localhost:8080/"
        },
        "id": "0AH434aBOHYF",
        "outputId": "f0d8f957-3a23-4f6e-83c3-296e834195c9"
      },
      "outputs": [
        {
          "output_type": "stream",
          "name": "stdout",
          "text": [
            "Saldo Andi setelah setor: 700000\n",
            "Saldo Andi setelah tarik: 600000\n",
            "Saldo tidak mencukupi!\n"
          ]
        }
      ],
      "source": [
        "class RekeningBank:\n",
        "    def __init__(self, nama, saldo):\n",
        "        self.nama = nama\n",
        "        self.saldo = saldo\n",
        "\n",
        "    def setor(self, jumlah):\n",
        "        self.saldo += jumlah\n",
        "        return f\"Saldo {self.nama} setelah setor: {self.saldo}\"\n",
        "\n",
        "    def tarik(self, jumlah):\n",
        "        if jumlah > self.saldo:\n",
        "            return \"Saldo tidak mencukupi!\"\n",
        "        self.saldo -= jumlah\n",
        "        return f\"Saldo {self.nama} setelah tarik: {self.saldo}\"\n",
        "\n",
        "# Membuat objek\n",
        "rekening1 = RekeningBank(\"Andi\", 500000)\n",
        "\n",
        "# Memanggil method\n",
        "print(rekening1.setor(200000))\n",
        "print(rekening1.tarik(100000))\n",
        "print(rekening1.tarik(700000))  # Akan gagal karena saldo kurang"
      ]
    }
  ]
}