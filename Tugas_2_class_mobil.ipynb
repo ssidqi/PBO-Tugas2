{
  "nbformat": 4,
  "nbformat_minor": 0,
  "metadata": {
    "colab": {
      "provenance": [],
      "authorship_tag": "ABX9TyPB1AaUxZzndMcKe6oMT+iS",
      "include_colab_link": true
    },
    "kernelspec": {
      "name": "python3",
      "display_name": "Python 3"
    },
    "language_info": {
      "name": "python"
    }
  },
  "cells": [
    {
      "cell_type": "markdown",
      "metadata": {
        "id": "view-in-github",
        "colab_type": "text"
      },
      "source": [
        "<a href=\"https://colab.research.google.com/github/ssidqi/PBO-Tugas2/blob/main/Tugas_2_class_mobil.ipynb\" target=\"_parent\"><img src=\"https://colab.research.google.com/assets/colab-badge.svg\" alt=\"Open In Colab\"/></a>"
      ]
    },
    {
      "cell_type": "code",
      "execution_count": null,
      "metadata": {
        "colab": {
          "base_uri": "https://localhost:8080/"
        },
        "id": "UQrXMiNkn0-j",
        "outputId": "fafd1b9d-eacb-4844-f8e2-93ab6e7cf1cb"
      },
      "outputs": [
        {
          "output_type": "stream",
          "name": "stdout",
          "text": [
            "Toyota Avanza (2022)\n",
            "Honda Civic (2023)\n"
          ]
        }
      ],
      "source": [
        "class Mobil:\n",
        "    def __init__(self, merek, model, tahun):\n",
        "        self.merek = merek\n",
        "        self.model = model\n",
        "        self.tahun = tahun\n",
        "\n",
        "    def info(self):\n",
        "        return f\"{self.merek} {self.model} ({self.tahun})\"\n",
        "\n",
        "# Membuat objek\n",
        "mobil1 = Mobil(\"Toyota\", \"Avanza\", 2022)\n",
        "mobil2 = Mobil(\"Honda\", \"Civic\", 2023)\n",
        "\n",
        "# Memanggil method\n",
        "print(mobil1.info())\n",
        "print(mobil2.info())"
      ]
    }
  ]
}