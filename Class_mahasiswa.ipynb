{
  "nbformat": 4,
  "nbformat_minor": 0,
  "metadata": {
    "colab": {
      "provenance": [],
      "authorship_tag": "ABX9TyPEHJBgt+GAXk7jHM17d8hr",
      "include_colab_link": true
    },
    "kernelspec": {
      "name": "python3",
      "display_name": "Python 3"
    },
    "language_info": {
      "name": "python"
    }
  },
  "cells": [
    {
      "cell_type": "markdown",
      "metadata": {
        "id": "view-in-github",
        "colab_type": "text"
      },
      "source": [
        "<a href=\"https://colab.research.google.com/github/ssidqi/PBO-Tugas2/blob/main/Class_mahasiswa.ipynb\" target=\"_parent\"><img src=\"https://colab.research.google.com/assets/colab-badge.svg\" alt=\"Open In Colab\"/></a>"
      ]
    },
    {
      "cell_type": "code",
      "execution_count": 2,
      "metadata": {
        "colab": {
          "base_uri": "https://localhost:8080/"
        },
        "id": "4K_Dqn0MNkOH",
        "outputId": "953874fd-c8b0-4593-a895-231aac2a206a"
      },
      "outputs": [
        {
          "output_type": "stream",
          "name": "stdout",
          "text": [
            "Nama: Budi, NIM: 220101, Jurusan: Informatika\n",
            "Nama: Siti, NIM: 220102, Jurusan: Teknologi Informasi\n"
          ]
        }
      ],
      "source": [
        "class Mahasiswa:\n",
        "    def __init__(self, nama, nim, jurusan):\n",
        "        self.nama = nama\n",
        "        self.nim = nim\n",
        "        self.jurusan = jurusan\n",
        "\n",
        "    def tampilkan_info(self):\n",
        "        return f\"Nama: {self.nama}, NIM: {self.nim}, Jurusan: {self.jurusan}\"\n",
        "\n",
        "# Membuat objek\n",
        "mhs1 = Mahasiswa(\"Budi\", \"220101\", \"Informatika\")\n",
        "mhs2 = Mahasiswa(\"Siti\", \"220102\", \"Teknologi Informasi\")\n",
        "\n",
        "# Memanggil method\n",
        "print(mhs1.tampilkan_info())\n",
        "print(mhs2.tampilkan_info())"
      ]
    }
  ]
}